{
  "metadata": {
    "kernelspec": {
      "name": "python",
      "display_name": "Python (Pyodide)",
      "language": "python"
    },
    "language_info": {
      "codemirror_mode": {
        "name": "python",
        "version": 3
      },
      "file_extension": ".py",
      "mimetype": "text/x-python",
      "name": "python",
      "nbconvert_exporter": "python",
      "pygments_lexer": "ipython3",
      "version": "3.8"
    }
  },
  "nbformat_minor": 5,
  "nbformat": 4,
  "cells": [
    {
      "cell_type": "markdown",
      "source": "# This is my header",
      "metadata": {},
      "id": "85838a19-f2ac-4fac-a19c-59cdbc07ee6c"
    },
    {
      "cell_type": "markdown",
      "source": "## This is a smaller header",
      "metadata": {
        "tags": []
      },
      "id": "5e0db144-63b7-4d7b-8cce-3c6b49112378"
    },
    {
      "cell_type": "markdown",
      "source": "### This is a smaller than smaller header",
      "metadata": {},
      "id": "6c1a5a87-5a78-44fb-b78c-83e056c4e186"
    },
    {
      "cell_type": "markdown",
      "source": "Hi how's it going. This is a sentence. I'm so glad that we can be here to watch me write sentences that are kind of useless, except that this is a demo. So I guess that's kind of useful",
      "metadata": {},
      "id": "9d8de998-049f-46d8-b72c-de13d5baa5ee"
    },
    {
      "cell_type": "code",
      "source": "a = 15 +15",
      "metadata": {
        "trusted": true
      },
      "execution_count": 2,
      "outputs": [],
      "id": "f16b25cc-a7c2-4884-9548-9bd2b81fc7b1"
    },
    {
      "cell_type": "code",
      "source": "a",
      "metadata": {
        "trusted": true
      },
      "execution_count": 3,
      "outputs": [
        {
          "execution_count": 3,
          "output_type": "execute_result",
          "data": {
            "text/plain": "30"
          },
          "metadata": {}
        }
      ],
      "id": "7bb81fa8-5a4d-4ddc-a3e6-357431273c99"
    },
    {
      "cell_type": "code",
      "source": "b = a * 100\nb",
      "metadata": {
        "trusted": true
      },
      "execution_count": 4,
      "outputs": [
        {
          "execution_count": 4,
          "output_type": "execute_result",
          "data": {
            "text/plain": "3000"
          },
          "metadata": {}
        }
      ],
      "id": "99858a57-94ab-4711-9ab7-34481dfbb1ab"
    },
    {
      "cell_type": "code",
      "source": "",
      "metadata": {},
      "execution_count": null,
      "outputs": [],
      "id": "1dced321-5a6d-448b-bb47-3c7f89b5c588"
    },
    {
      "cell_type": "code",
      "source": "",
      "metadata": {},
      "execution_count": null,
      "outputs": [],
      "id": "11bf2b43-c3ea-447f-ac99-9c0be0dc6d99"
    },
    {
      "cell_type": "markdown",
      "source": "hi",
      "metadata": {},
      "id": "cf99be0f-c81f-4fcd-aa7f-a40f52e822f6"
    },
    {
      "cell_type": "code",
      "source": "",
      "metadata": {},
      "execution_count": null,
      "outputs": [],
      "id": "bd072092-b70a-4566-9ee2-9af1833d800e"
    },
    {
      "cell_type": "code",
      "source": "",
      "metadata": {},
      "execution_count": null,
      "outputs": [],
      "id": "9408e222-57a6-4de3-91df-afb7f9b62d79"
    },
    {
      "cell_type": "code",
      "source": "",
      "metadata": {},
      "execution_count": null,
      "outputs": [],
      "id": "dbd56c98-1664-4101-bb34-199d4f5446c1"
    },
    {
      "cell_type": "code",
      "source": "",
      "metadata": {},
      "execution_count": null,
      "outputs": [],
      "id": "b5350b4b-f3a3-436d-935c-8227088b5f22"
    },
    {
      "cell_type": "code",
      "source": "",
      "metadata": {},
      "execution_count": null,
      "outputs": [],
      "id": "97b8117f-c2a5-408d-9857-b8c47dfc2861"
    },
    {
      "cell_type": "code",
      "source": "",
      "metadata": {},
      "execution_count": null,
      "outputs": [],
      "id": "f92f6d54-b868-4111-859c-6a93e1ceaa3d"
    }
  ]
}