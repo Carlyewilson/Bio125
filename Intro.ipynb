{
  "metadata": {
    "kernelspec": {
      "name": "python",
      "display_name": "Python (Pyodide)",
      "language": "python"
    },
    "language_info": {
      "codemirror_mode": {
        "name": "python",
        "version": 3
      },
      "file_extension": ".py",
      "mimetype": "text/x-python",
      "name": "python",
      "nbconvert_exporter": "python",
      "pygments_lexer": "ipython3",
      "version": "3.8"
    }
  },
  "nbformat_minor": 5,
  "nbformat": 4,
  "cells": [
    {
      "cell_type": "markdown",
      "source": "This is what it looks like with the code option:",
      "metadata": {},
      "id": "c7f221de-3403-4b48-bce8-eb33d533cd84"
    },
    {
      "cell_type": "code",
      "source": "# In order to use Jupyter like a word processor, you need to choose the \"Markdown\" Option",
      "metadata": {
        "jp-MarkdownHeadingCollapsed": true,
        "tags": [],
        "trusted": true
      },
      "execution_count": 9,
      "outputs": [],
      "id": "909c32b3-e897-4774-93b1-de6667909c7f"
    },
    {
      "cell_type": "markdown",
      "source": "This is what it looks like with the Markdown option:",
      "metadata": {},
      "id": "65f7c799-2122-484f-a33c-ac02ae8cb226"
    },
    {
      "cell_type": "markdown",
      "source": "# In order to use Jupyter like a word processor, you need to choose the \"Markdown\" Option",
      "metadata": {
        "tags": []
      },
      "id": "2906f171-2f7b-4b8b-b185-22c8cb033203"
    },
    {
      "cell_type": "code",
      "source": "",
      "metadata": {},
      "execution_count": null,
      "outputs": [],
      "id": "4179ff89-cdd3-463f-bb04-b3e19b1b77e2"
    }
  ]
}